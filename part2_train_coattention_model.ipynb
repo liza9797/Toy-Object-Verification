{
 "cells": [
  {
   "cell_type": "code",
   "execution_count": 1,
   "metadata": {
    "_cell_guid": "b1076dfc-b9ad-4769-8c92-a6c4dae69d19",
    "_uuid": "8f2839f25d086af736a60e9eeb907d3b93b6e0e5",
    "execution": {
     "iopub.execute_input": "2025-02-25T02:41:11.702638Z",
     "iopub.status.busy": "2025-02-25T02:41:11.702249Z",
     "iopub.status.idle": "2025-02-25T02:41:11.707861Z",
     "shell.execute_reply": "2025-02-25T02:41:11.706776Z",
     "shell.execute_reply.started": "2025-02-25T02:41:11.702607Z"
    }
   },
   "outputs": [],
   "source": [
    "import os\n",
    "import cv2\n",
    "import random\n",
    "import datetime\n",
    "import numpy as np\n",
    "import pandas as pd\n",
    "from PIL import Image, ImageDraw\n",
    "from tqdm import tqdm\n",
    "from matplotlib import pyplot as plt\n",
    "from collections import defaultdict\n",
    "\n",
    "import torch\n",
    "from torch import nn\n",
    "import torch.nn.functional as F\n",
    "from torch.utils.data import Dataset, DataLoader\n",
    "import torch.optim as optim\n",
    "from torch.optim import lr_scheduler\n",
    "from torch.optim import Adam\n",
    "\n",
    "from src.utils.utils_generate_samples import generate_shape_image\n",
    "from src.models.CoAttentionModel import CoAttentionModel"
   ]
  },
  {
   "cell_type": "markdown",
   "metadata": {},
   "source": [
    "### Dataset"
   ]
  },
  {
   "cell_type": "code",
   "execution_count": 2,
   "metadata": {
    "execution": {
     "iopub.execute_input": "2025-02-25T02:40:09.218243Z",
     "iopub.status.busy": "2025-02-25T02:40:09.218003Z",
     "iopub.status.idle": "2025-02-25T02:40:09.235096Z",
     "shell.execute_reply": "2025-02-25T02:40:09.234097Z",
     "shell.execute_reply.started": "2025-02-25T02:40:09.218224Z"
    }
   },
   "outputs": [],
   "source": [
    "class PairDataset:\n",
    "    def __init__(self, df, size):\n",
    "        self.df = df\n",
    "        self.size = size\n",
    "\n",
    "    def __len__(self):\n",
    "        return self.size\n",
    "\n",
    "    def get_item(self, index):\n",
    "        \n",
    "        shape = self.df.at[index, 'shape']\n",
    "        size = self.df.at[index, 'size']\n",
    "        x = self.df.at[index, 'x']\n",
    "        y = self.df.at[index, 'y']\n",
    "        angle = self.df.at[index, 'angle']\n",
    "        \n",
    "        return generate_shape_image(shape=shape, s=size, position=(x, y), angle=angle)\n",
    "    \n",
    "    def __getitem__(self, index):\n",
    "\n",
    "        random_pair = self.df.sample(n=2).index.tolist()\n",
    "\n",
    "        img1, shape1 = self.get_item(random_pair[0])\n",
    "        img2, shape2 = self.get_item(random_pair[1])\n",
    "\n",
    "        # img1, shape1 = generate_shape_image(image_size=(32, 32), min_size=5, )\n",
    "        # img2, shape2 = generate_shape_image(image_size=(32, 32), min_size=5,)\n",
    "        \n",
    "        ### Target\n",
    "        target = 0\n",
    "        if shape1 == shape2:\n",
    "            target = 1\n",
    "            \n",
    "        ### Preprocess\n",
    "        tensor1 = torch.from_numpy(np.array(img1, dtype=np.float32)).unsqueeze(0) / 255.\n",
    "        tensor2 = torch.from_numpy(np.array(img2, dtype=np.float32)).unsqueeze(0) / 255.\n",
    "\n",
    "        return tensor1, tensor2, target"
   ]
  },
  {
   "cell_type": "code",
   "execution_count": null,
   "metadata": {},
   "outputs": [],
   "source": []
  },
  {
   "cell_type": "code",
   "execution_count": 3,
   "metadata": {
    "execution": {
     "iopub.execute_input": "2025-02-25T02:40:09.237391Z",
     "iopub.status.busy": "2025-02-25T02:40:09.237095Z",
     "iopub.status.idle": "2025-02-25T02:40:09.491769Z",
     "shell.execute_reply": "2025-02-25T02:40:09.490789Z",
     "shell.execute_reply.started": "2025-02-25T02:40:09.237370Z"
    }
   },
   "outputs": [],
   "source": [
    "phase_range = ['train', 'val']\n",
    "df = pd.read_csv('data/train_val_test_split.csv')\n",
    "\n",
    "phase_to_size = {\n",
    "    'train': 20_000,\n",
    "    'val': 4_000\n",
    "}\n",
    "\n",
    "datasets = {\n",
    "    phase: PairDataset(df=df[df.split == phase], size=phase_to_size[phase])\n",
    "        for phase in phase_range\n",
    "}\n",
    "\n",
    "BATCH_SIZE = 128\n",
    "dataloaders = {\n",
    "    phase: DataLoader(datasets[phase], batch_size=BATCH_SIZE, \n",
    "                      shuffle=True if phase == 'train' else False)\n",
    "        for phase in phase_range\n",
    "}"
   ]
  },
  {
   "cell_type": "code",
   "execution_count": 4,
   "metadata": {
    "execution": {
     "iopub.execute_input": "2025-02-25T02:40:09.493453Z",
     "iopub.status.busy": "2025-02-25T02:40:09.493115Z",
     "iopub.status.idle": "2025-02-25T02:40:09.506592Z",
     "shell.execute_reply": "2025-02-25T02:40:09.505778Z",
     "shell.execute_reply.started": "2025-02-25T02:40:09.493428Z"
    }
   },
   "outputs": [
    {
     "data": {
      "text/plain": [
       "circle    5000\n",
       "square    5000\n",
       "Name: shape, dtype: int64"
      ]
     },
     "execution_count": 4,
     "metadata": {},
     "output_type": "execute_result"
    }
   ],
   "source": [
    "datasets['train'].df['shape'].value_counts()"
   ]
  },
  {
   "cell_type": "code",
   "execution_count": 5,
   "metadata": {
    "execution": {
     "iopub.execute_input": "2025-02-25T02:40:09.507864Z",
     "iopub.status.busy": "2025-02-25T02:40:09.507528Z",
     "iopub.status.idle": "2025-02-25T02:40:09.896304Z",
     "shell.execute_reply": "2025-02-25T02:40:09.895501Z",
     "shell.execute_reply.started": "2025-02-25T02:40:09.507831Z"
    }
   },
   "outputs": [
    {
     "data": {
      "image/png": "[encoded data removed]",
      "text/plain": [
       "<Figure size 720x360 with 2 Axes>"
      ]
     },
     "metadata": {},
     "output_type": "display_data"
    }
   ],
   "source": [
    "img1, img2, target = next(iter(dataloaders['train']))\n",
    "\n",
    "fig, axs = plt.subplots(1, 2, figsize=(10, 5))\n",
    "\n",
    "axs[0].imshow(img1.numpy()[0][0], cmap='Greys')\n",
    "axs[1].imshow(img2.numpy()[0][0], cmap='Greys')\n",
    "\n",
    "if target[0] == 1:\n",
    "    plt.suptitle('Same shapes!', fontsize=20)\n",
    "else:\n",
    "    plt.suptitle('Different shapes!', fontsize=20)\n",
    "\n",
    "for i in range(2):\n",
    "    axs[i].set_xticks([])\n",
    "    axs[i].set_yticks([])\n",
    "plt.show()"
   ]
  },
  {
   "cell_type": "code",
   "execution_count": null,
   "metadata": {},
   "outputs": [],
   "source": []
  },
  {
   "cell_type": "code",
   "execution_count": null,
   "metadata": {},
   "outputs": [],
   "source": []
  },
  {
   "cell_type": "markdown",
   "metadata": {},
   "source": [
    "# Model"
   ]
  },
  {
   "cell_type": "code",
   "execution_count": null,
   "metadata": {
    "execution": {
     "iopub.execute_input": "2025-02-25T02:40:10.101631Z",
     "iopub.status.busy": "2025-02-25T02:40:10.101254Z",
     "iopub.status.idle": "2025-02-25T02:40:10.272238Z",
     "shell.execute_reply": "2025-02-25T02:40:10.271179Z",
     "shell.execute_reply.started": "2025-02-25T02:40:10.101602Z"
    }
   },
   "outputs": [],
   "source": [
    "model = CoAttentionModel()\n",
    "# model = model.to(device)\n",
    "\n",
    "# summary(model, input_size=(1, 32, 32))\n",
    "x = torch.randn((2, 1, 32, 32))#.to(device)\n",
    "model(x, x)"
   ]
  },
  {
   "cell_type": "code",
   "execution_count": 11,
   "metadata": {
    "execution": {
     "iopub.execute_input": "2025-02-25T02:40:12.253298Z",
     "iopub.status.busy": "2025-02-25T02:40:12.253005Z",
     "iopub.status.idle": "2025-02-25T02:40:12.258630Z",
     "shell.execute_reply": "2025-02-25T02:40:12.257825Z",
     "shell.execute_reply.started": "2025-02-25T02:40:12.253273Z"
    }
   },
   "outputs": [
    {
     "name": "stdout",
     "output_type": "stream",
     "text": [
      "Number of params: 1507105\n"
     ]
    }
   ],
   "source": [
    "count = 0\n",
    "for p in model.parameters():\n",
    "    count += p.numel()\n",
    "print('Number of params:', count)"
   ]
  },
  {
   "cell_type": "markdown",
   "metadata": {},
   "source": [
    "### Train"
   ]
  },
  {
   "cell_type": "code",
   "execution_count": 12,
   "metadata": {
    "execution": {
     "iopub.execute_input": "2025-02-25T02:40:15.306200Z",
     "iopub.status.busy": "2025-02-25T02:40:15.305859Z",
     "iopub.status.idle": "2025-02-25T02:40:15.318966Z",
     "shell.execute_reply": "2025-02-25T02:40:15.318165Z",
     "shell.execute_reply.started": "2025-02-25T02:40:15.306172Z"
    }
   },
   "outputs": [],
   "source": [
    "class BCELossCustom(nn.Module):\n",
    "    def __init__(self, margin=1.0):\n",
    "        super().__init__()\n",
    "\n",
    "        self.metrics = defaultdict(float)\n",
    "        self.df = pd.DataFrame(columns=['epoch', 'phase', 'lr', 'itr', 'loss', 'accuracy', 'precision', 'recall'])\n",
    "        self.loss_fn = nn.BCEWithLogitsLoss()\n",
    "        \n",
    "    def init_metrics(self):\n",
    "        self.metrics = defaultdict(float)\n",
    "\n",
    "    def update_dataframe(self, epoch, phase, itr, epoch_samples):\n",
    "        self.calc_aggr_metrics()\n",
    "        self.df.loc[df.shape[0]] = [\n",
    "            epoch, phase, get_lr(optimizer), itr, \n",
    "            self.metrics['loss'] / epoch_samples, \n",
    "            self.metrics['accuracy'],\n",
    "            self.metrics['precision'],\n",
    "            self.metrics['recall']\n",
    "        ]\n",
    "\n",
    "    def print_metrics(self, epoch, epoch_samples, phase, ):  \n",
    "        self.calc_aggr_metrics()\n",
    "        \n",
    "        outputs = []\n",
    "        for k in self.metrics.keys():\n",
    "            if k == 'loss':\n",
    "                outputs.append(\"{}: {:4f}\".format(k, self.metrics[k] / epoch_samples))\n",
    "            else:\n",
    "                outputs.append(\"{}: {:4f}\".format(k, self.metrics[k] ))\n",
    "\n",
    "        print(\"{} {}: {}\".format(epoch, phase, \", \".join(outputs)))  \n",
    "        \n",
    "    def calc_metrics(self, preds, targets, threshold=0.5):\n",
    "        probs = torch.sigmoid(preds)\n",
    "        predictions = (probs > threshold).int()\n",
    "        \n",
    "        self.metrics['TP'] += ((predictions == 1) & (targets == 1)).sum().item()\n",
    "        self.metrics['FP'] += ((predictions == 1) & (targets == 0)).sum().item()\n",
    "        self.metrics['TN'] += ((predictions == 0) & (targets == 0)).sum().item()\n",
    "        self.metrics['FN'] += ((predictions == 0) & (targets == 1)).sum().item()\n",
    "        \n",
    "    def calc_aggr_metrics(self):\n",
    "        \n",
    "        correct = (self.metrics['TP'] + self.metrics['TN'])\n",
    "        count = (self.metrics['TP'] + self.metrics['FP'] + self.metrics['TN'] + self.metrics['FN'])\n",
    "        \n",
    "        self.metrics['accuracy'] = correct / count\n",
    "        self.metrics['precision'] = self.metrics['TP'] / (self.metrics['TP'] + self.metrics['FP']) \\\n",
    "                    if (self.metrics['TP'] + self.metrics['FP']) > 0 else 0\n",
    "        self.metrics['recall'] = self.metrics['TP'] / (self.metrics['TP'] + self.metrics['FN']) \\\n",
    "                    if (self.metrics['TP'] + self.metrics['FN']) > 0 else 0\n",
    "\n",
    "    def forward(self, preds, targets):\n",
    "        preds = preds.squeeze(dim=1)\n",
    "\n",
    "        loss = self.loss_fn(preds, targets.float())\n",
    "        self.metrics['loss'] += loss.cpu().item()\n",
    "        \n",
    "        self.calc_metrics(preds, targets)\n",
    "        return loss\n",
    "\n",
    "def init_dir(path):\n",
    "    ts = str(datetime.datetime.now().replace(microsecond=0))\n",
    "    ts = ts.replace('-', '_')\n",
    "    ts = ts.replace(':', '_')\n",
    "    ts = ts.replace(' ', 'T')\n",
    "\n",
    "    folder_path = os.path.join(path, ts)\n",
    "    os.makedirs(folder_path)\n",
    "    return folder_path\n",
    "\n",
    "def get_lr(optimizer):\n",
    "    for param_group in optimizer.param_groups:\n",
    "        return param_group['lr']\n"
   ]
  },
  {
   "cell_type": "code",
   "execution_count": 13,
   "metadata": {
    "execution": {
     "iopub.execute_input": "2025-02-25T02:40:18.165357Z",
     "iopub.status.busy": "2025-02-25T02:40:18.165048Z",
     "iopub.status.idle": "2025-02-25T02:40:18.220314Z",
     "shell.execute_reply": "2025-02-25T02:40:18.219267Z",
     "shell.execute_reply.started": "2025-02-25T02:40:18.165334Z"
    }
   },
   "outputs": [
    {
     "name": "stdout",
     "output_type": "stream",
     "text": [
      "cuda is available!!!!\n"
     ]
    }
   ],
   "source": [
    "if torch.cuda.is_available():\n",
    "    device=torch.device(\"cuda\")\n",
    "    print('cuda is available!!!!')\n",
    "elif not torch.cuda.is_available():\n",
    "    print('cuda not available! Training initialized on cpu ...')\n",
    "    device=torch.device(\"cpu\")\n"
   ]
  },
  {
   "cell_type": "code",
   "execution_count": 28,
   "metadata": {
    "execution": {
     "iopub.execute_input": "2025-02-25T02:43:07.978395Z",
     "iopub.status.busy": "2025-02-25T02:43:07.978008Z",
     "iopub.status.idle": "2025-02-25T02:43:08.003749Z",
     "shell.execute_reply": "2025-02-25T02:43:08.002555Z",
     "shell.execute_reply.started": "2025-02-25T02:43:07.978361Z"
    }
   },
   "outputs": [
    {
     "name": "stderr",
     "output_type": "stream",
     "text": [
      "/usr/local/lib/python3.10/dist-packages/torch/nn/modules/transformer.py:379: UserWarning: enable_nested_tensor is True, but self.use_nested_tensor is False because encoder_layer.self_attn.batch_first was not True(use batch_first for better inference performance)\n",
      "  warnings.warn(\n"
     ]
    }
   ],
   "source": [
    "### Model\n",
    "model = CoAttentionModel()\n",
    "model = model.to(device)\n"
   ]
  },
  {
   "cell_type": "code",
   "execution_count": 29,
   "metadata": {
    "execution": {
     "iopub.execute_input": "2025-02-25T02:43:08.757793Z",
     "iopub.status.busy": "2025-02-25T02:43:08.757453Z",
     "iopub.status.idle": "2025-02-25T02:43:08.765893Z",
     "shell.execute_reply": "2025-02-25T02:43:08.764829Z",
     "shell.execute_reply.started": "2025-02-25T02:43:08.757768Z"
    }
   },
   "outputs": [],
   "source": [
    "### Learning parameters\n",
    "\n",
    "TRAINING_EPOCH = 30\n",
    "\n",
    "optimizer = Adam(params=model.parameters(),  lr=1e-3, weight_decay=1e-4)\n",
    "scheduler = lr_scheduler.StepLR(optimizer, step_size=10, gamma=0.1)\n",
    "\n",
    "criterion = BCELossCustom()"
   ]
  },
  {
   "cell_type": "code",
   "execution_count": 30,
   "metadata": {
    "execution": {
     "iopub.execute_input": "2025-02-25T02:43:09.333197Z",
     "iopub.status.busy": "2025-02-25T02:43:09.332893Z",
     "iopub.status.idle": "2025-02-25T02:43:09.337048Z",
     "shell.execute_reply": "2025-02-25T02:43:09.335984Z",
     "shell.execute_reply.started": "2025-02-25T02:43:09.333173Z"
    }
   },
   "outputs": [],
   "source": [
    "# scheduler.get_lr()"
   ]
  },
  {
   "cell_type": "code",
   "execution_count": null,
   "metadata": {},
   "outputs": [],
   "source": []
  },
  {
   "cell_type": "code",
   "execution_count": 31,
   "metadata": {
    "execution": {
     "iopub.execute_input": "2025-02-25T02:43:10.257276Z",
     "iopub.status.busy": "2025-02-25T02:43:10.256980Z",
     "iopub.status.idle": "2025-02-25T02:52:43.476747Z",
     "shell.execute_reply": "2025-02-25T02:52:43.475863Z",
     "shell.execute_reply.started": "2025-02-25T02:43:10.257256Z"
    }
   },
   "outputs": [
    {
     "name": "stderr",
     "output_type": "stream",
     "text": [
      "/usr/local/lib/python3.10/dist-packages/torch/optim/lr_scheduler.py:224: UserWarning: Detected call of `lr_scheduler.step()` before `optimizer.step()`. In PyTorch 1.1.0 and later, you should call them in the opposite order: `optimizer.step()` before `lr_scheduler.step()`.  Failure to do this will result in PyTorch skipping the first value of the learning rate schedule. See more details at https://pytorch.org/docs/stable/optim.html#how-to-adjust-learning-rate\n",
      "  warnings.warn(\n",
      "157it [00:16,  9.43it/s]\n"
     ]
    },
    {
     "name": "stdout",
     "output_type": "stream",
     "text": [
      "1 train: loss: 0.678995, TP: 5564.000000, FP: 4601.000000, TN: 5443.000000, FN: 4392.000000, accuracy: 0.550350, precision: 0.547368, recall: 0.558859\n"
     ]
    },
    {
     "name": "stderr",
     "output_type": "stream",
     "text": [
      "32it [00:02, 12.84it/s]\n"
     ]
    },
    {
     "name": "stdout",
     "output_type": "stream",
     "text": [
      "1 val: loss: 0.784285, TP: 981.000000, FP: 850.000000, TN: 1154.000000, FN: 1015.000000, accuracy: 0.533750, precision: 0.535773, recall: 0.491483\n"
     ]
    },
    {
     "name": "stderr",
     "output_type": "stream",
     "text": [
      "157it [00:16,  9.49it/s]\n"
     ]
    },
    {
     "name": "stdout",
     "output_type": "stream",
     "text": [
      "2 train: loss: 0.195396, TP: 9246.000000, FP: 810.000000, TN: 9318.000000, FN: 626.000000, accuracy: 0.928200, precision: 0.919451, recall: 0.936588\n"
     ]
    },
    {
     "name": "stderr",
     "output_type": "stream",
     "text": [
      "32it [00:02, 12.89it/s]\n"
     ]
    },
    {
     "name": "stdout",
     "output_type": "stream",
     "text": [
      "2 val: loss: 0.485089, TP: 1831.000000, FP: 523.000000, TN: 1426.000000, FN: 220.000000, accuracy: 0.814250, precision: 0.777825, recall: 0.892735\n"
     ]
    },
    {
     "name": "stderr",
     "output_type": "stream",
     "text": [
      "157it [00:16,  9.44it/s]\n"
     ]
    },
    {
     "name": "stdout",
     "output_type": "stream",
     "text": [
      "3 train: loss: 0.048690, TP: 9764.000000, FP: 155.000000, TN: 9950.000000, FN: 131.000000, accuracy: 0.985700, precision: 0.984373, recall: 0.986761\n"
     ]
    },
    {
     "name": "stderr",
     "output_type": "stream",
     "text": [
      "32it [00:02, 12.70it/s]\n"
     ]
    },
    {
     "name": "stdout",
     "output_type": "stream",
     "text": [
      "3 val: loss: 0.056185, TP: 1933.000000, FP: 32.000000, TN: 1997.000000, FN: 38.000000, accuracy: 0.982500, precision: 0.983715, recall: 0.980720\n"
     ]
    },
    {
     "name": "stderr",
     "output_type": "stream",
     "text": [
      "157it [00:16,  9.40it/s]\n"
     ]
    },
    {
     "name": "stdout",
     "output_type": "stream",
     "text": [
      "4 train: loss: 0.023698, TP: 10110.000000, FP: 76.000000, TN: 9747.000000, FN: 67.000000, accuracy: 0.992850, precision: 0.992539, recall: 0.993417\n"
     ]
    },
    {
     "name": "stderr",
     "output_type": "stream",
     "text": [
      "32it [00:02, 12.89it/s]\n"
     ]
    },
    {
     "name": "stdout",
     "output_type": "stream",
     "text": [
      "4 val: loss: 0.058089, TP: 2022.000000, FP: 31.000000, TN: 1922.000000, FN: 25.000000, accuracy: 0.986000, precision: 0.984900, recall: 0.987787\n"
     ]
    },
    {
     "name": "stderr",
     "output_type": "stream",
     "text": [
      "157it [00:16,  9.30it/s]\n"
     ]
    },
    {
     "name": "stdout",
     "output_type": "stream",
     "text": [
      "5 train: loss: 0.037028, TP: 9869.000000, FP: 116.000000, TN: 9900.000000, FN: 115.000000, accuracy: 0.988450, precision: 0.988383, recall: 0.988482\n"
     ]
    },
    {
     "name": "stderr",
     "output_type": "stream",
     "text": [
      "32it [00:02, 12.49it/s]\n"
     ]
    },
    {
     "name": "stdout",
     "output_type": "stream",
     "text": [
      "5 val: loss: 0.012862, TP: 2019.000000, FP: 17.000000, TN: 1963.000000, FN: 1.000000, accuracy: 0.995500, precision: 0.991650, recall: 0.999505\n"
     ]
    },
    {
     "name": "stderr",
     "output_type": "stream",
     "text": [
      "157it [00:16,  9.25it/s]\n"
     ]
    },
    {
     "name": "stdout",
     "output_type": "stream",
     "text": [
      "6 train: loss: 0.014112, TP: 10019.000000, FP: 32.000000, TN: 9910.000000, FN: 39.000000, accuracy: 0.996450, precision: 0.996816, recall: 0.996122\n"
     ]
    },
    {
     "name": "stderr",
     "output_type": "stream",
     "text": [
      "32it [00:02, 12.46it/s]\n"
     ]
    },
    {
     "name": "stdout",
     "output_type": "stream",
     "text": [
      "6 val: loss: 0.005600, TP: 1916.000000, FP: 1.000000, TN: 2076.000000, FN: 7.000000, accuracy: 0.998000, precision: 0.999478, recall: 0.996360\n"
     ]
    },
    {
     "name": "stderr",
     "output_type": "stream",
     "text": [
      "157it [00:16,  9.55it/s]\n"
     ]
    },
    {
     "name": "stdout",
     "output_type": "stream",
     "text": [
      "7 train: loss: 0.008250, TP: 9961.000000, FP: 24.000000, TN: 9992.000000, FN: 23.000000, accuracy: 0.997650, precision: 0.997596, recall: 0.997696\n"
     ]
    },
    {
     "name": "stderr",
     "output_type": "stream",
     "text": [
      "32it [00:02, 12.71it/s]\n"
     ]
    },
    {
     "name": "stdout",
     "output_type": "stream",
     "text": [
      "7 val: loss: 0.117603, TP: 1970.000000, FP: 167.000000, TN: 1842.000000, FN: 21.000000, accuracy: 0.953000, precision: 0.921853, recall: 0.989453\n"
     ]
    },
    {
     "name": "stderr",
     "output_type": "stream",
     "text": [
      "157it [00:16,  9.55it/s]\n"
     ]
    },
    {
     "name": "stdout",
     "output_type": "stream",
     "text": [
      "8 train: loss: 0.027602, TP: 9934.000000, FP: 89.000000, TN: 9896.000000, FN: 81.000000, accuracy: 0.991500, precision: 0.991120, recall: 0.991912\n"
     ]
    },
    {
     "name": "stderr",
     "output_type": "stream",
     "text": [
      "32it [00:02, 12.93it/s]\n"
     ]
    },
    {
     "name": "stdout",
     "output_type": "stream",
     "text": [
      "8 val: loss: 0.015790, TP: 2014.000000, FP: 12.000000, TN: 1971.000000, FN: 3.000000, accuracy: 0.996250, precision: 0.994077, recall: 0.998513\n"
     ]
    },
    {
     "name": "stderr",
     "output_type": "stream",
     "text": [
      "157it [00:16,  9.48it/s]\n"
     ]
    },
    {
     "name": "stdout",
     "output_type": "stream",
     "text": [
      "9 train: loss: 0.007649, TP: 10122.000000, FP: 22.000000, TN: 9835.000000, FN: 21.000000, accuracy: 0.997850, precision: 0.997831, recall: 0.997930\n"
     ]
    },
    {
     "name": "stderr",
     "output_type": "stream",
     "text": [
      "32it [00:02, 12.60it/s]\n"
     ]
    },
    {
     "name": "stdout",
     "output_type": "stream",
     "text": [
      "9 val: loss: 0.014164, TP: 2014.000000, FP: 5.000000, TN: 1975.000000, FN: 6.000000, accuracy: 0.997250, precision: 0.997524, recall: 0.997030\n"
     ]
    },
    {
     "name": "stderr",
     "output_type": "stream",
     "text": [
      "157it [00:16,  9.54it/s]\n"
     ]
    },
    {
     "name": "stdout",
     "output_type": "stream",
     "text": [
      "10 train: loss: 0.001245, TP: 10108.000000, FP: 0.000000, TN: 9891.000000, FN: 1.000000, accuracy: 0.999950, precision: 1.000000, recall: 0.999901\n"
     ]
    },
    {
     "name": "stderr",
     "output_type": "stream",
     "text": [
      "32it [00:02, 12.84it/s]\n"
     ]
    },
    {
     "name": "stdout",
     "output_type": "stream",
     "text": [
      "10 val: loss: 0.013038, TP: 1933.000000, FP: 5.000000, TN: 2054.000000, FN: 8.000000, accuracy: 0.996750, precision: 0.997420, recall: 0.995878\n"
     ]
    },
    {
     "name": "stderr",
     "output_type": "stream",
     "text": [
      "157it [00:16,  9.47it/s]\n"
     ]
    },
    {
     "name": "stdout",
     "output_type": "stream",
     "text": [
      "11 train: loss: 0.001157, TP: 9992.000000, FP: 1.000000, TN: 10006.000000, FN: 1.000000, accuracy: 0.999900, precision: 0.999900, recall: 0.999900\n"
     ]
    },
    {
     "name": "stderr",
     "output_type": "stream",
     "text": [
      "32it [00:02, 12.23it/s]\n"
     ]
    },
    {
     "name": "stdout",
     "output_type": "stream",
     "text": [
      "11 val: loss: 0.005508, TP: 1994.000000, FP: 4.000000, TN: 2001.000000, FN: 1.000000, accuracy: 0.998750, precision: 0.997998, recall: 0.999499\n"
     ]
    },
    {
     "name": "stderr",
     "output_type": "stream",
     "text": [
      "157it [00:16,  9.29it/s]\n"
     ]
    },
    {
     "name": "stdout",
     "output_type": "stream",
     "text": [
      "12 train: loss: 0.001171, TP: 10025.000000, FP: 1.000000, TN: 9974.000000, FN: 0.000000, accuracy: 0.999950, precision: 0.999900, recall: 1.000000\n"
     ]
    },
    {
     "name": "stderr",
     "output_type": "stream",
     "text": [
      "32it [00:02, 12.29it/s]\n"
     ]
    },
    {
     "name": "stdout",
     "output_type": "stream",
     "text": [
      "12 val: loss: 0.014291, TP: 1986.000000, FP: 5.000000, TN: 1999.000000, FN: 10.000000, accuracy: 0.996250, precision: 0.997489, recall: 0.994990\n"
     ]
    },
    {
     "name": "stderr",
     "output_type": "stream",
     "text": [
      "157it [00:16,  9.48it/s]\n"
     ]
    },
    {
     "name": "stdout",
     "output_type": "stream",
     "text": [
      "13 train: loss: 0.001049, TP: 9941.000000, FP: 1.000000, TN: 10058.000000, FN: 0.000000, accuracy: 0.999950, precision: 0.999899, recall: 1.000000\n"
     ]
    },
    {
     "name": "stderr",
     "output_type": "stream",
     "text": [
      "32it [00:02, 13.17it/s]\n"
     ]
    },
    {
     "name": "stdout",
     "output_type": "stream",
     "text": [
      "13 val: loss: 0.012779, TP: 1994.000000, FP: 8.000000, TN: 1995.000000, FN: 3.000000, accuracy: 0.997250, precision: 0.996004, recall: 0.998498\n"
     ]
    },
    {
     "name": "stderr",
     "output_type": "stream",
     "text": [
      "157it [00:16,  9.43it/s]\n"
     ]
    },
    {
     "name": "stdout",
     "output_type": "stream",
     "text": [
      "14 train: loss: 0.000865, TP: 9957.000000, FP: 0.000000, TN: 10043.000000, FN: 0.000000, accuracy: 1.000000, precision: 1.000000, recall: 1.000000\n"
     ]
    },
    {
     "name": "stderr",
     "output_type": "stream",
     "text": [
      "32it [00:02, 12.63it/s]\n"
     ]
    },
    {
     "name": "stdout",
     "output_type": "stream",
     "text": [
      "14 val: loss: 0.005895, TP: 1947.000000, FP: 2.000000, TN: 2048.000000, FN: 3.000000, accuracy: 0.998750, precision: 0.998974, recall: 0.998462\n"
     ]
    },
    {
     "name": "stderr",
     "output_type": "stream",
     "text": [
      "157it [00:16,  9.26it/s]\n"
     ]
    },
    {
     "name": "stdout",
     "output_type": "stream",
     "text": [
      "15 train: loss: 0.000829, TP: 10046.000000, FP: 0.000000, TN: 9954.000000, FN: 0.000000, accuracy: 1.000000, precision: 1.000000, recall: 1.000000\n"
     ]
    },
    {
     "name": "stderr",
     "output_type": "stream",
     "text": [
      "32it [00:02, 12.52it/s]\n"
     ]
    },
    {
     "name": "stdout",
     "output_type": "stream",
     "text": [
      "15 val: loss: 0.015811, TP: 2029.000000, FP: 5.000000, TN: 1960.000000, FN: 6.000000, accuracy: 0.997250, precision: 0.997542, recall: 0.997052\n"
     ]
    },
    {
     "name": "stderr",
     "output_type": "stream",
     "text": [
      "157it [00:17,  9.08it/s]\n"
     ]
    },
    {
     "name": "stdout",
     "output_type": "stream",
     "text": [
      "16 train: loss: 0.000834, TP: 9991.000000, FP: 0.000000, TN: 10009.000000, FN: 0.000000, accuracy: 1.000000, precision: 1.000000, recall: 1.000000\n"
     ]
    },
    {
     "name": "stderr",
     "output_type": "stream",
     "text": [
      "32it [00:02, 12.14it/s]\n"
     ]
    },
    {
     "name": "stdout",
     "output_type": "stream",
     "text": [
      "16 val: loss: 0.006915, TP: 1964.000000, FP: 4.000000, TN: 2029.000000, FN: 3.000000, accuracy: 0.998250, precision: 0.997967, recall: 0.998475\n"
     ]
    },
    {
     "name": "stderr",
     "output_type": "stream",
     "text": [
      "157it [00:16,  9.25it/s]\n"
     ]
    },
    {
     "name": "stdout",
     "output_type": "stream",
     "text": [
      "17 train: loss: 0.000727, TP: 10035.000000, FP: 0.000000, TN: 9965.000000, FN: 0.000000, accuracy: 1.000000, precision: 1.000000, recall: 1.000000\n"
     ]
    },
    {
     "name": "stderr",
     "output_type": "stream",
     "text": [
      "32it [00:02, 12.46it/s]\n"
     ]
    },
    {
     "name": "stdout",
     "output_type": "stream",
     "text": [
      "17 val: loss: 0.008473, TP: 1994.000000, FP: 4.000000, TN: 2000.000000, FN: 2.000000, accuracy: 0.998500, precision: 0.997998, recall: 0.998998\n"
     ]
    },
    {
     "name": "stderr",
     "output_type": "stream",
     "text": [
      "157it [00:17,  9.20it/s]\n"
     ]
    },
    {
     "name": "stdout",
     "output_type": "stream",
     "text": [
      "18 train: loss: 0.000680, TP: 10035.000000, FP: 0.000000, TN: 9965.000000, FN: 0.000000, accuracy: 1.000000, precision: 1.000000, recall: 1.000000\n"
     ]
    },
    {
     "name": "stderr",
     "output_type": "stream",
     "text": [
      "32it [00:02, 12.47it/s]\n"
     ]
    },
    {
     "name": "stdout",
     "output_type": "stream",
     "text": [
      "18 val: loss: 0.007685, TP: 1993.000000, FP: 3.000000, TN: 2001.000000, FN: 3.000000, accuracy: 0.998500, precision: 0.998497, recall: 0.998497\n"
     ]
    },
    {
     "name": "stderr",
     "output_type": "stream",
     "text": [
      "157it [00:16,  9.36it/s]\n"
     ]
    },
    {
     "name": "stdout",
     "output_type": "stream",
     "text": [
      "19 train: loss: 0.000712, TP: 9914.000000, FP: 0.000000, TN: 10086.000000, FN: 0.000000, accuracy: 1.000000, precision: 1.000000, recall: 1.000000\n"
     ]
    },
    {
     "name": "stderr",
     "output_type": "stream",
     "text": [
      "32it [00:02, 13.04it/s]\n"
     ]
    },
    {
     "name": "stdout",
     "output_type": "stream",
     "text": [
      "19 val: loss: 0.013227, TP: 2028.000000, FP: 6.000000, TN: 1959.000000, FN: 7.000000, accuracy: 0.996750, precision: 0.997050, recall: 0.996560\n"
     ]
    },
    {
     "name": "stderr",
     "output_type": "stream",
     "text": [
      "157it [00:16,  9.48it/s]\n"
     ]
    },
    {
     "name": "stdout",
     "output_type": "stream",
     "text": [
      "20 train: loss: 0.000657, TP: 10008.000000, FP: 0.000000, TN: 9992.000000, FN: 0.000000, accuracy: 1.000000, precision: 1.000000, recall: 1.000000\n"
     ]
    },
    {
     "name": "stderr",
     "output_type": "stream",
     "text": [
      "32it [00:02, 12.94it/s]\n"
     ]
    },
    {
     "name": "stdout",
     "output_type": "stream",
     "text": [
      "20 val: loss: 0.008983, TP: 2047.000000, FP: 7.000000, TN: 1945.000000, FN: 1.000000, accuracy: 0.998000, precision: 0.996592, recall: 0.999512\n"
     ]
    },
    {
     "name": "stderr",
     "output_type": "stream",
     "text": [
      "157it [00:16,  9.60it/s]\n"
     ]
    },
    {
     "name": "stdout",
     "output_type": "stream",
     "text": [
      "21 train: loss: 0.000630, TP: 10000.000000, FP: 0.000000, TN: 10000.000000, FN: 0.000000, accuracy: 1.000000, precision: 1.000000, recall: 1.000000\n"
     ]
    },
    {
     "name": "stderr",
     "output_type": "stream",
     "text": [
      "32it [00:02, 13.08it/s]\n"
     ]
    },
    {
     "name": "stdout",
     "output_type": "stream",
     "text": [
      "21 val: loss: 0.020591, TP: 1995.000000, FP: 12.000000, TN: 1988.000000, FN: 5.000000, accuracy: 0.995750, precision: 0.994021, recall: 0.997500\n"
     ]
    },
    {
     "name": "stderr",
     "output_type": "stream",
     "text": [
      "157it [00:16,  9.51it/s]\n"
     ]
    },
    {
     "name": "stdout",
     "output_type": "stream",
     "text": [
      "22 train: loss: 0.000643, TP: 9946.000000, FP: 0.000000, TN: 10054.000000, FN: 0.000000, accuracy: 1.000000, precision: 1.000000, recall: 1.000000\n"
     ]
    },
    {
     "name": "stderr",
     "output_type": "stream",
     "text": [
      "32it [00:02, 12.82it/s]\n"
     ]
    },
    {
     "name": "stdout",
     "output_type": "stream",
     "text": [
      "22 val: loss: 0.006043, TP: 1976.000000, FP: 2.000000, TN: 2020.000000, FN: 2.000000, accuracy: 0.999000, precision: 0.998989, recall: 0.998989\n"
     ]
    },
    {
     "name": "stderr",
     "output_type": "stream",
     "text": [
      "157it [00:16,  9.53it/s]\n"
     ]
    },
    {
     "name": "stdout",
     "output_type": "stream",
     "text": [
      "23 train: loss: 0.000667, TP: 10042.000000, FP: 0.000000, TN: 9958.000000, FN: 0.000000, accuracy: 1.000000, precision: 1.000000, recall: 1.000000\n"
     ]
    },
    {
     "name": "stderr",
     "output_type": "stream",
     "text": [
      "32it [00:02, 12.72it/s]\n"
     ]
    },
    {
     "name": "stdout",
     "output_type": "stream",
     "text": [
      "23 val: loss: 0.006719, TP: 1999.000000, FP: 4.000000, TN: 1994.000000, FN: 3.000000, accuracy: 0.998250, precision: 0.998003, recall: 0.998501\n"
     ]
    },
    {
     "name": "stderr",
     "output_type": "stream",
     "text": [
      "157it [00:16,  9.34it/s]\n"
     ]
    },
    {
     "name": "stdout",
     "output_type": "stream",
     "text": [
      "24 train: loss: 0.000652, TP: 9941.000000, FP: 0.000000, TN: 10059.000000, FN: 0.000000, accuracy: 1.000000, precision: 1.000000, recall: 1.000000\n"
     ]
    },
    {
     "name": "stderr",
     "output_type": "stream",
     "text": [
      "32it [00:02, 12.82it/s]\n"
     ]
    },
    {
     "name": "stdout",
     "output_type": "stream",
     "text": [
      "24 val: loss: 0.004587, TP: 1923.000000, FP: 2.000000, TN: 2071.000000, FN: 4.000000, accuracy: 0.998500, precision: 0.998961, recall: 0.997924\n"
     ]
    },
    {
     "name": "stderr",
     "output_type": "stream",
     "text": [
      "157it [00:16,  9.38it/s]\n"
     ]
    },
    {
     "name": "stdout",
     "output_type": "stream",
     "text": [
      "25 train: loss: 0.000643, TP: 9981.000000, FP: 0.000000, TN: 10019.000000, FN: 0.000000, accuracy: 1.000000, precision: 1.000000, recall: 1.000000\n"
     ]
    },
    {
     "name": "stderr",
     "output_type": "stream",
     "text": [
      "32it [00:02, 12.94it/s]\n"
     ]
    },
    {
     "name": "stdout",
     "output_type": "stream",
     "text": [
      "25 val: loss: 0.013306, TP: 2025.000000, FP: 9.000000, TN: 1965.000000, FN: 1.000000, accuracy: 0.997500, precision: 0.995575, recall: 0.999506\n"
     ]
    },
    {
     "name": "stderr",
     "output_type": "stream",
     "text": [
      "157it [00:16,  9.72it/s]\n"
     ]
    },
    {
     "name": "stdout",
     "output_type": "stream",
     "text": [
      "26 train: loss: 0.000633, TP: 9965.000000, FP: 0.000000, TN: 10035.000000, FN: 0.000000, accuracy: 1.000000, precision: 1.000000, recall: 1.000000\n"
     ]
    },
    {
     "name": "stderr",
     "output_type": "stream",
     "text": [
      "32it [00:02, 12.82it/s]\n"
     ]
    },
    {
     "name": "stdout",
     "output_type": "stream",
     "text": [
      "26 val: loss: 0.014417, TP: 2010.000000, FP: 7.000000, TN: 1979.000000, FN: 4.000000, accuracy: 0.997250, precision: 0.996529, recall: 0.998014\n"
     ]
    },
    {
     "name": "stderr",
     "output_type": "stream",
     "text": [
      "157it [00:16,  9.75it/s]\n"
     ]
    },
    {
     "name": "stdout",
     "output_type": "stream",
     "text": [
      "27 train: loss: 0.000605, TP: 10017.000000, FP: 0.000000, TN: 9983.000000, FN: 0.000000, accuracy: 1.000000, precision: 1.000000, recall: 1.000000\n"
     ]
    },
    {
     "name": "stderr",
     "output_type": "stream",
     "text": [
      "32it [00:02, 13.04it/s]\n"
     ]
    },
    {
     "name": "stdout",
     "output_type": "stream",
     "text": [
      "27 val: loss: 0.003177, TP: 2024.000000, FP: 3.000000, TN: 1972.000000, FN: 1.000000, accuracy: 0.999000, precision: 0.998520, recall: 0.999506\n"
     ]
    },
    {
     "name": "stderr",
     "output_type": "stream",
     "text": [
      "157it [00:15,  9.83it/s]\n"
     ]
    },
    {
     "name": "stdout",
     "output_type": "stream",
     "text": [
      "28 train: loss: 0.000601, TP: 10091.000000, FP: 0.000000, TN: 9909.000000, FN: 0.000000, accuracy: 1.000000, precision: 1.000000, recall: 1.000000\n"
     ]
    },
    {
     "name": "stderr",
     "output_type": "stream",
     "text": [
      "32it [00:02, 13.13it/s]\n"
     ]
    },
    {
     "name": "stdout",
     "output_type": "stream",
     "text": [
      "28 val: loss: 0.006544, TP: 2020.000000, FP: 5.000000, TN: 1973.000000, FN: 2.000000, accuracy: 0.998250, precision: 0.997531, recall: 0.999011\n"
     ]
    },
    {
     "name": "stderr",
     "output_type": "stream",
     "text": [
      "157it [00:15,  9.98it/s]\n"
     ]
    },
    {
     "name": "stdout",
     "output_type": "stream",
     "text": [
      "29 train: loss: 0.000601, TP: 10009.000000, FP: 0.000000, TN: 9991.000000, FN: 0.000000, accuracy: 1.000000, precision: 1.000000, recall: 1.000000\n"
     ]
    },
    {
     "name": "stderr",
     "output_type": "stream",
     "text": [
      "32it [00:02, 13.54it/s]\n"
     ]
    },
    {
     "name": "stdout",
     "output_type": "stream",
     "text": [
      "29 val: loss: 0.010515, TP: 1957.000000, FP: 2.000000, TN: 2035.000000, FN: 6.000000, accuracy: 0.998000, precision: 0.998979, recall: 0.996943\n"
     ]
    },
    {
     "name": "stderr",
     "output_type": "stream",
     "text": [
      "157it [00:15,  9.92it/s]\n"
     ]
    },
    {
     "name": "stdout",
     "output_type": "stream",
     "text": [
      "30 train: loss: 0.000599, TP: 9970.000000, FP: 0.000000, TN: 10030.000000, FN: 0.000000, accuracy: 1.000000, precision: 1.000000, recall: 1.000000\n"
     ]
    },
    {
     "name": "stderr",
     "output_type": "stream",
     "text": [
      "32it [00:02, 13.62it/s]"
     ]
    },
    {
     "name": "stdout",
     "output_type": "stream",
     "text": [
      "30 val: loss: 0.015286, TP: 1972.000000, FP: 9.000000, TN: 2016.000000, FN: 3.000000, accuracy: 0.997000, precision: 0.995457, recall: 0.998481\n"
     ]
    },
    {
     "name": "stderr",
     "output_type": "stream",
     "text": [
      "\n"
     ]
    }
   ],
   "source": [
    "model_dir = init_dir('data/')\n",
    "folder = model_dir.split('/')[-1]\n",
    "df_path = model_dir + f\"/df_logs_{folder}.csv\"\n",
    "\n",
    "print_per_iter = 1000 ### don't want to see intermidiate results\n",
    "for epoch in range(TRAINING_EPOCH):\n",
    "    for p, phase in enumerate(phase_range):\n",
    "        criterion.init_metrics()\n",
    "\n",
    "        ## Model state\n",
    "        if phase == 'train':\n",
    "            model.train()\n",
    "            scheduler.step()\n",
    "        else:\n",
    "            model.eval()\n",
    "\n",
    "        ### Iterate\n",
    "        epoch_samples = 0\n",
    "        for itr, (img1, img2, targets) in tqdm(enumerate(dataloaders[phase])): \n",
    "            if phase == 'train':\n",
    "                optimizer.zero_grad() \n",
    "            \n",
    "            with torch.set_grad_enabled(phase == 'train'):\n",
    "                out = model(img1.to(device), img2.to(device))\n",
    "                \n",
    "            epoch_samples += img1.shape[0]\n",
    "            \n",
    "            loss = criterion(out, targets.to(device))\n",
    "            ### Backward\n",
    "            if phase == 'train':\n",
    "                loss.backward()\n",
    "                optimizer.step()\n",
    "                \n",
    "\n",
    "            if itr % print_per_iter == (print_per_iter - 1):\n",
    "                criterion.print_metrics(epoch+1, itr + 1, phase, )\n",
    "                criterion.update_dataframe(epoch, phase, itr, epoch_samples)\n",
    "                criterion.df.to_csv(df_path, index=False)\n",
    "\n",
    "        criterion.print_metrics(epoch+1, itr + 1, phase, )\n",
    "        criterion.update_dataframe(epoch, phase, itr, epoch_samples)\n",
    "        criterion.df.to_csv(df_path, index=False)\n",
    "        \n",
    "        if phase == 'val':\n",
    "            epoch_loss = criterion.metrics['loss'] / itr\n",
    "            model_suffix = \"weight.epoch_{}_loss_{}_{}.pth\".format(epoch+1, phase, epoch_loss)\n",
    "            model_path = os.path.join(model_dir, model_suffix)\n",
    "            torch.save(model.state_dict(), model_path) "
   ]
  },
  {
   "cell_type": "code",
   "execution_count": null,
   "metadata": {},
   "outputs": [],
   "source": []
  },
  {
   "cell_type": "code",
   "execution_count": null,
   "metadata": {},
   "outputs": [],
   "source": []
  },
  {
   "cell_type": "code",
   "execution_count": null,
   "metadata": {},
   "outputs": [],
   "source": []
  },
  {
   "cell_type": "code",
   "execution_count": null,
   "metadata": {},
   "outputs": [],
   "source": []
  }
 ],
 "metadata": {
  "kaggle": {
   "accelerator": "gpu",
   "dataSources": [
    {
     "databundleVersionId": 11207962,
     "datasetId": 6735220,
     "sourceId": 10845143,
     "sourceType": "datasetVersion"
    }
   ],
   "dockerImageVersionId": 30919,
   "isGpuEnabled": true,
   "isInternetEnabled": true,
   "language": "python",
   "sourceType": "notebook"
  },
  "kernelspec": {
   "display_name": "Python 3",
   "language": "python",
   "name": "python3"
  },
  "language_info": {
   "codemirror_mode": {
    "name": "ipython",
    "version": 3
   },
   "file_extension": ".py",
   "mimetype": "text/x-python",
   "name": "python",
   "nbconvert_exporter": "python",
   "pygments_lexer": "ipython3",
   "version": "3.8.5"
  }
 },
 "nbformat": 4,
 "nbformat_minor": 4
}
